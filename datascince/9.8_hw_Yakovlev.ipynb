{
 "cells": [
  {
   "cell_type": "markdown",
   "metadata": {
    "id": "I3cIqq1_avyx"
   },
   "source": [
    "# Функции. Домашнее задание"
   ]
  },
  {
   "cell_type": "markdown",
   "metadata": {
    "id": "6m31Ptr8tFdp"
   },
   "source": [
    "**Обязательные задачи**"
   ]
  },
  {
   "cell_type": "markdown",
   "metadata": {
    "id": "1nI8YsZQ8xvq"
   },
   "source": [
    "*Задача 1. Конвертация валют*\n",
    "\n",
    "Напишите функцию `rub_to_currency`, которая переводит деньги в рублях в одну из двух валют: USD или CNY. У функции должно быть два входных параметра:\n",
    "1. `rub_amount` — деньги в рублях;\n",
    "2.  `currency` — валюта, в которую нужно совершить перевод. Если второй параметр не указан, по умолчанию следует считать его равным USD.\n",
    "\n",
    "На выходе функция должна вывести на экран, сколько рублей было дано в начале и сколько денег получилось в заданной валюте. В случае с китайским юанем также нужно вывести промежуточное значение в долларах. Если на вход в `currency` приходит невалидное значение, нужно вывести на экран сообщение: «Расчёт не может быть совершён».\n",
    "\n",
    "Декомпозируйте данную задачу на несколько функций.\n",
    "\n",
    "Проверьте, что функция `rub_to_currency` в последующих ячейках отработала верно.\n",
    "\n",
    "Создайте вспомогательные функции для перевода в доллар и китайский юань\n",
    "Считайте курс доллара к рублю следующим: 1USD = 70,99RUB, курс доллара к юаню: 1USD = 6,44CNY"
   ]
  },
  {
   "cell_type": "code",
   "execution_count": 129,
   "metadata": {
    "id": "HBAVvL_-qSCC"
   },
   "outputs": [],
   "source": [
    "# валюта форматированным текстом\n",
    "def curency_to_str(currency_value, currency_type):\n",
    "    return str(currency_value) + currency_type\n",
    "\n",
    "# печатаем результат конвертации форматированным текстом\n",
    "def print_conversion(source_value, source_type, result_value, result_type):\n",
    "    print(f\"было: {curency_to_str(source_value, source_type)}, стало: {curency_to_str(result_value, result_type)}\")    \n",
    "    \n",
    "# конвертер rub->usd\n",
    "def rub_tu_usd(rub_amount = 0):\n",
    "    USD_RUB_RATE = 70.99\n",
    "    return rub_amount / USD_RUB_RATE\n",
    "\n",
    "# конвертер usd->cny\n",
    "def usd_tu_cny(usd_amount = 0):\n",
    "    CNY_USD_RATE = 6.44\n",
    "    return usd_amount * CNY_USD_RATE\n",
    "\n",
    "# многострочно печатаем результат конвертации рублей в заказанную валюту форматированным текстом\n",
    "# функция без return\n",
    "def rub_to_currency(rub_amount, currency = \"USD\"):\n",
    "    if currency == \"USD\":\n",
    "        usd_amount = rub_tu_usd(rub_amount)\n",
    "        print_conversion(rub_amount, \"RUB\", usd_amount, \"USD\")\n",
    "    elif currency == \"CNY\":\n",
    "        usd_amount = rub_tu_usd(rub_amount)\n",
    "        cny_amount = usd_tu_cny(usd_amount)\n",
    "        print(\"Промежуточная конвертация в USD\")\n",
    "        print_conversion(rub_amount, \"RUB\", usd_amount, \"USD\")\n",
    "        print_conversion(usd_amount, \"USD\", cny_amount, \"CNY\")\n",
    "    else:\n",
    "        print(\"Расчёт не может быть совершён\")    "
   ]
  },
  {
   "cell_type": "code",
   "execution_count": 130,
   "metadata": {
    "colab": {
     "base_uri": "https://localhost:8080/"
    },
    "executionInfo": {
     "elapsed": 269,
     "status": "ok",
     "timestamp": 1634725925583,
     "user": {
      "displayName": "Евгения Миллер",
      "photoUrl": "https://lh3.googleusercontent.com/a-/AOh14Gj2X0dQicVOw3_uvDLm2AdkkDjMIUubVj8NCWQ6=s64",
      "userId": "01842992490389353651"
     },
     "user_tz": -180
    },
    "id": "Yjg-saciqofS",
    "outputId": "5e5ea18a-c24e-40cf-9c6d-e47ea90ccdca"
   },
   "outputs": [
    {
     "name": "stdout",
     "output_type": "stream",
     "text": [
      "было: 7200RUB, стало: 101.4227355965629USD\n",
      "Промежуточная конвертация в USD\n",
      "было: 7200RUB, стало: 101.4227355965629USD\n",
      "было: 101.4227355965629USD, стало: 653.1624172418651CNY\n",
      "Расчёт не может быть совершён\n",
      "было: 7200RUB, стало: 101.4227355965629USD\n"
     ]
    }
   ],
   "source": [
    "rub_to_currency(7200, 'USD')\n",
    "rub_to_currency(7200, 'CNY')\n",
    "rub_to_currency(7200, 'EUR')\n",
    "rub_to_currency(7200)"
   ]
  },
  {
   "cell_type": "markdown",
   "metadata": {},
   "source": [
    "### Примеры вывода\n",
    "\n",
    "rub_to_currency(7200, 'USD')\n",
    "было: 7200RUB, стало: 101.4227355965629USD\n",
    "\n",
    "rub_to_currency(7200, 'CNY')\n",
    "Конвертация в USD\n",
    "было: 7200RUB, стало: 101.4227355965629USD\n",
    "было: 101.4227355965629USD, стало: 653.1624172418651CNY\n",
    "\n",
    "rub_to_currency(7200, 'EUR')\n",
    "Расчёт не может быть совершён\n",
    "\n",
    "rub_to_currency(7200)\n",
    "было: 7200RUB, стало: 101.4227355965629USD"
   ]
  },
  {
   "cell_type": "markdown",
   "metadata": {
    "id": "1YIw6X35mR5U"
   },
   "source": [
    "*Задача 2. Обработка анкет*\n",
    "\n",
    "Вам выгрузили список с анкетами потенциальных клиентов, которые заинтересовались покупкой подписки на здоровую еду. Вам нужно обработать эти значения и сказать, какие анкеты подходят (а какие нет) для дальнейшего обзвона колл-центром.\n",
    "\n",
    "Условия, которым должна удовлетворять анкета:\n",
    "* Есть контактная информация: номер телефона.\n",
    "* Контактный номер начинается либо с восьмёрки, либо с семёрки и состоит из десяти символов.\n",
    "* Город проживания: Москва.\n",
    "\n",
    "Пример анкеты выглядит следующим образом: `name=Аня,phone=8800234 , city=москва`. Заметьте, в значениях параметров городов, имён, номеров телефонов могут встретиться лишние пробелы. Попробуйте удалить их с помощью метода `replace`.\n"
   ]
  },
  {
   "cell_type": "code",
   "execution_count": 81,
   "metadata": {
    "id": "bQFctEmbrezu"
   },
   "outputs": [],
   "source": [
    "applications = [\n",
    "         'name=Аня,phone=8800234 ,city=москва',\n",
    "         'name=КОЛЯ,phone=8800900871 ,city=МОСКВА',\n",
    "         'name=Валентина,phone=7950900871 ,city=волгоград',\n",
    "         'name=,phone=7999901871,city=москва',\n",
    "         'name=Иван,phone=7999901871,city=москва',\n",
    "         'name=Инга,phone=,city=москва'\n",
    "\n",
    "] "
   ]
  },
  {
   "cell_type": "code",
   "execution_count": 131,
   "metadata": {
    "id": "pLEy-WBWswti"
   },
   "outputs": [],
   "source": [
    "#константы структурыы анкеты\n",
    "NAME_POS = 0\n",
    "PHONE_POS = 1\n",
    "CITY_POS = 2\n",
    "\n",
    "CITY_TEMPLATE = \"москва\"\n",
    "PHONE_LENGTH = 10\n",
    "\n",
    "# функция проверки валидности номера\n",
    "def check_phone(phone):\n",
    "    normalized_phone = phone.replace(\" \", \"\")\n",
    "    if len(normalized_phone) != PHONE_LENGTH:\n",
    "        return False\n",
    "    if normalized_phone[0] != \"8\" and normalized_phone[0] != \"7\":\n",
    "        return False\n",
    "    return True\n",
    "\n",
    "# функция проверки валидности города\n",
    "def check_city(city):\n",
    "    normalized_city = city.lower()\n",
    "    index = normalized_city.find(CITY_TEMPLATE)\n",
    "    return index != -1\n",
    "\n",
    "# функция проверки одной анкеты\n",
    "# разбираем структуру вида 'name=Аня,phone=8800234 ,city=москва'\n",
    "def check_application(application):\n",
    "    data = application.split(\",\")\n",
    "    if len(data) != 3:\n",
    "        return False  # некорректная структура анкеты, вернем FALSE\n",
    "    name = data[NAME_POS].split(\"=\")[1]\n",
    "    phone = data[PHONE_POS].split(\"=\")[1]\n",
    "    city = data[CITY_POS].split(\"=\")[1]\n",
    "    return check_phone(phone) and check_city(city)\n",
    "\n",
    "# функция проверки списка анкет\n",
    "def find_valid_applications(applications):\n",
    "    for elem in applications:\n",
    "        print(f\"{elem} --- {check_application(elem)}\")"
   ]
  },
  {
   "cell_type": "code",
   "execution_count": 132,
   "metadata": {},
   "outputs": [
    {
     "name": "stdout",
     "output_type": "stream",
     "text": [
      "name=Аня,phone=8800234 ,city=москва --- False\n",
      "name=КОЛЯ,phone=8800900871 ,city=МОСКВА --- True\n",
      "name=Валентина,phone=7950900871 ,city=волгоград --- False\n",
      "name=,phone=7999901871,city=москва --- True\n",
      "name=Иван,phone=7999901871,city=москва --- True\n",
      "name=Инга,phone=,city=москва --- False\n"
     ]
    }
   ],
   "source": [
    "find_valid_applications(applications)"
   ]
  },
  {
   "cell_type": "markdown",
   "metadata": {
    "id": "F8ISsSdO8hL8"
   },
   "source": [
    "### Примеры вывода\n",
    "find_valid_applications(applications)\n",
    "name=Аня,phone=8800234 ,city=москва --- False\n",
    "name=КОЛЯ,phone=8800900871 ,city=МОСКВА --- True\n",
    "name=Валентина,phone=7950900871 ,city=волгоград --- False\n",
    "name=,phone=7999901871,city=москва --- True\n",
    "name=Иван,phone=7999901871,city=москва --- True\n",
    "name=Инга,phone=,city=москва --- False"
   ]
  },
  {
   "cell_type": "markdown",
   "metadata": {
    "id": "c3X805npAhXG"
   },
   "source": [
    "*Задача 3. Факториал*\n",
    "\n",
    "Факториалом числа n называется произведение всех натуральных чисел от 1 до n.\n",
    "\n",
    "\n",
    "\n",
    "> n! = 1 \\* 2 \\*...\\* n\n",
    "\n",
    "> 3! = 1 \\* 2 \\* 3 = 6\n",
    "\n",
    "> 0! = 1\n",
    "\n",
    "Напишите рекурсивную функцию нахождения факториала, где входным параметром является одно единственное число — n. Проверьте, что функция в последующих ячейках отработала верно.\n",
    "\n",
    "\n",
    "\n",
    "\n",
    "\n",
    "\n",
    "\n"
   ]
  },
  {
   "cell_type": "code",
   "execution_count": 133,
   "metadata": {
    "id": "qD9afK3cC2GY"
   },
   "outputs": [],
   "source": [
    "# Ваш код здесь\n",
    "def factorial(n):\n",
    "    if n:\n",
    "        return n * factorial(n-1)   \n",
    "    else:\n",
    "        return 1"
   ]
  },
  {
   "cell_type": "code",
   "execution_count": 134,
   "metadata": {
    "colab": {
     "base_uri": "https://localhost:8080/"
    },
    "executionInfo": {
     "elapsed": 4,
     "status": "ok",
     "timestamp": 1634726334959,
     "user": {
      "displayName": "Евгения Миллер",
      "photoUrl": "https://lh3.googleusercontent.com/a-/AOh14Gj2X0dQicVOw3_uvDLm2AdkkDjMIUubVj8NCWQ6=s64",
      "userId": "01842992490389353651"
     },
     "user_tz": -180
    },
    "id": "w1WpXrpCCta8",
    "outputId": "a7326cc4-a16d-42f8-b260-5d855a453ad2"
   },
   "outputs": [
    {
     "data": {
      "text/plain": [
       "1"
      ]
     },
     "execution_count": 134,
     "metadata": {},
     "output_type": "execute_result"
    }
   ],
   "source": [
    "factorial(1)"
   ]
  },
  {
   "cell_type": "code",
   "execution_count": 135,
   "metadata": {},
   "outputs": [
    {
     "data": {
      "text/plain": [
       "1"
      ]
     },
     "execution_count": 135,
     "metadata": {},
     "output_type": "execute_result"
    }
   ],
   "source": [
    "factorial(0)"
   ]
  },
  {
   "cell_type": "code",
   "execution_count": 136,
   "metadata": {},
   "outputs": [
    {
     "data": {
      "text/plain": [
       "24"
      ]
     },
     "execution_count": 136,
     "metadata": {},
     "output_type": "execute_result"
    }
   ],
   "source": [
    "factorial(4)"
   ]
  },
  {
   "cell_type": "markdown",
   "metadata": {
    "id": "Bit-nevse14o"
   },
   "source": [
    "*Задача 4. Палиндром*\n",
    "\n",
    "Палиндромом называется такое слово (или фраза), которое слева направо и справа налево читается одинаково. Нужно написать рекурсивную функцию, которая будет возвращать `True`, если слово палиндром, и `False`, если нет.\n",
    "\n",
    "Будем считать, что пустая строка также является палиндромом.\n",
    "\n",
    "Решение должно работать на строках без знаков препинания. Проверьте, что функция в последующих ячейках отработала верно.\n",
    "\n"
   ]
  },
  {
   "cell_type": "code",
   "execution_count": 139,
   "metadata": {
    "id": "IHePFicik7Ih"
   },
   "outputs": [],
   "source": [
    "# в ТЗ не оговорили, но в примерах требуется игнор регистра и пробелов\n",
    "def normalized_text(text):\n",
    "    new_text = text.replace(\" \", \"\")\n",
    "    new_text = new_text.lower()\n",
    "    return new_text\n",
    "\n",
    "# рекурсивно проверяем текст на палиндром\n",
    "def palindrom_with_normalized_text(text):\n",
    "    if len(text) < 2:\n",
    "        return True  # пустая строка или центральный одиночный символ = палиндром\n",
    "    else:\n",
    "        return text[0] == text[-1] and palindrom_with_normalized_text(text[1:-1])\n",
    "    \n",
    "# уберем пробелы и регистры и проверяем на палиндром\n",
    "def palindrom(text):\n",
    "    text = normalized_text(text)\n",
    "    return palindrom_with_normalized_text(text)        "
   ]
  },
  {
   "cell_type": "code",
   "execution_count": 140,
   "metadata": {
    "colab": {
     "base_uri": "https://localhost:8080/"
    },
    "executionInfo": {
     "elapsed": 240,
     "status": "ok",
     "timestamp": 1634726417021,
     "user": {
      "displayName": "Евгения Миллер",
      "photoUrl": "https://lh3.googleusercontent.com/a-/AOh14Gj2X0dQicVOw3_uvDLm2AdkkDjMIUubVj8NCWQ6=s64",
      "userId": "01842992490389353651"
     },
     "user_tz": -180
    },
    "id": "YAZcDrWRitX6",
    "outputId": "0424530f-c352-4902-b5aa-332603fefcd6"
   },
   "outputs": [
    {
     "data": {
      "text/plain": [
       "True"
      ]
     },
     "execution_count": 140,
     "metadata": {},
     "output_type": "execute_result"
    }
   ],
   "source": [
    "palindrom('saippuakivikauppias')"
   ]
  },
  {
   "cell_type": "code",
   "execution_count": 141,
   "metadata": {
    "colab": {
     "base_uri": "https://localhost:8080/"
    },
    "executionInfo": {
     "elapsed": 18,
     "status": "ok",
     "timestamp": 1634726417360,
     "user": {
      "displayName": "Евгения Миллер",
      "photoUrl": "https://lh3.googleusercontent.com/a-/AOh14Gj2X0dQicVOw3_uvDLm2AdkkDjMIUubVj8NCWQ6=s64",
      "userId": "01842992490389353651"
     },
     "user_tz": -180
    },
    "id": "mGGspj3Fivdk",
    "outputId": "47e70b6d-5b48-46dc-9f9f-75b7ad60b2d1"
   },
   "outputs": [
    {
     "data": {
      "text/plain": [
       "False"
      ]
     },
     "execution_count": 141,
     "metadata": {},
     "output_type": "execute_result"
    }
   ],
   "source": [
    "palindrom('murmur')"
   ]
  },
  {
   "cell_type": "code",
   "execution_count": 142,
   "metadata": {
    "colab": {
     "base_uri": "https://localhost:8080/"
    },
    "executionInfo": {
     "elapsed": 6,
     "status": "ok",
     "timestamp": 1634726418250,
     "user": {
      "displayName": "Евгения Миллер",
      "photoUrl": "https://lh3.googleusercontent.com/a-/AOh14Gj2X0dQicVOw3_uvDLm2AdkkDjMIUubVj8NCWQ6=s64",
      "userId": "01842992490389353651"
     },
     "user_tz": -180
    },
    "id": "5Nw0wTEPiwYV",
    "outputId": "7ee7f468-f42e-4417-faf4-a8a5262614f1"
   },
   "outputs": [
    {
     "data": {
      "text/plain": [
       "True"
      ]
     },
     "execution_count": 142,
     "metadata": {},
     "output_type": "execute_result"
    }
   ],
   "source": [
    "palindrom('В резерв')"
   ]
  },
  {
   "cell_type": "code",
   "execution_count": 143,
   "metadata": {
    "colab": {
     "base_uri": "https://localhost:8080/"
    },
    "executionInfo": {
     "elapsed": 3,
     "status": "ok",
     "timestamp": 1634726418507,
     "user": {
      "displayName": "Евгения Миллер",
      "photoUrl": "https://lh3.googleusercontent.com/a-/AOh14Gj2X0dQicVOw3_uvDLm2AdkkDjMIUubVj8NCWQ6=s64",
      "userId": "01842992490389353651"
     },
     "user_tz": -180
    },
    "id": "Kb9qX0ZDjaWu",
    "outputId": "3cd76a92-48af-48af-cdaa-038d7c219cf8"
   },
   "outputs": [
    {
     "data": {
      "text/plain": [
       "True"
      ]
     },
     "execution_count": 143,
     "metadata": {},
     "output_type": "execute_result"
    }
   ],
   "source": [
    "palindrom('Sator Arepo tenet opera rotas')"
   ]
  },
  {
   "cell_type": "markdown",
   "metadata": {
    "id": "urJcsE1JDEjB"
   },
   "source": [
    "**Дополнительные задачи**"
   ]
  },
  {
   "cell_type": "markdown",
   "metadata": {
    "id": "VEgXwB5SH0LL"
   },
   "source": [
    "*Задача 5. Количество цифр в числе*\n",
    "\n",
    "Напишите функцию, которая рассчитывает количество цифр в целом числе, приходящем ей на вход.\n",
    "\n",
    "Рассмотрите два способа решения данной задачи: через строковые переменные и без использования строковых переменных.\n",
    "\n",
    "**Пример:**\n",
    "<br>\n",
    "Input: `n = 1234567` \n",
    "<br>\n",
    "Output: `7`"
   ]
  },
  {
   "cell_type": "code",
   "execution_count": 144,
   "metadata": {
    "id": "IOxO5n6dwPWy"
   },
   "outputs": [],
   "source": [
    "# будем искать число цифр, знак не интересует\n",
    "def normalized_number(number):\n",
    "    return abs(number)\n",
    "\n",
    "# способ 1, конвертируем число в строку и смотрим ее длину\n",
    "def len_number_by_str(number):\n",
    "    return len(str(normalized_number(number)))\n",
    "\n",
    "# способ 2, честно считаем разрядность в десятичной системе\n",
    "def len_number_wo_str(number = 0):\n",
    "    number = normalized_number(number)\n",
    "    count = 1\n",
    "    while (number > 9):\n",
    "        count +=1\n",
    "        number = number // 10\n",
    "    return count\n",
    "\n",
    "# печатем читабельный вид двух вариантов сравнения\n",
    "def print_number_len(number):\n",
    "    print(f\"{number}: {len_number_by_str(number)}(1-ый способ), {len_number_wo_str(number)}(2-ой способ)\")"
   ]
  },
  {
   "cell_type": "code",
   "execution_count": 145,
   "metadata": {},
   "outputs": [
    {
     "name": "stdout",
     "output_type": "stream",
     "text": [
      "1234567: 7\n",
      "1234567: 7(1-ый способ), 7(2-ой способ)\n",
      "1: 1(1-ый способ), 1(2-ой способ)\n",
      "0: 1(1-ый способ), 1(2-ой способ)\n",
      "10: 2(1-ый способ), 2(2-ой способ)\n",
      "9: 1(1-ый способ), 1(2-ой способ)\n",
      "-34: 2(1-ый способ), 2(2-ой способ)\n",
      "55555555555555555555: 20(1-ый способ), 20(2-ой способ)\n"
     ]
    }
   ],
   "source": [
    "print(\"1234567:\", len_number_by_str(1234567))\n",
    "\n",
    "print_number_len(1234567)\n",
    "print_number_len(1)\n",
    "print_number_len(0)\n",
    "print_number_len(10)\n",
    "print_number_len(9)\n",
    "print_number_len(-34)\n",
    "print_number_len(55555555555555555555)"
   ]
  },
  {
   "cell_type": "markdown",
   "metadata": {
    "id": "Uf-63ipMwTrs"
   },
   "source": [
    "*Задача 6. Количество отличников и двоечников*\n",
    "\n",
    "Дан список, в каждом элементе которого лежат оценки за финальный экзамен по русскому языку по одному классу. Найдите количество сдавших (оценка >= 3) и не сдавших (оценка < 3) экзамен в каждом классе, а также выведите результативность класса.\n",
    "\n",
    "Результативность класса считается по следующей логике:\n",
    "* если количество оценок 4 и 5 в классе > 95%, результативность отличная;\n",
    "* если количество оценок 4 и 5 в классе < 30%, результативность плохая;\n",
    "* в остальных случаях результативность средняя.\n",
    "\n",
    "Декомпозируйте задачу с помощью функций. Добавьте возможность менять пороги результативности с помощью входных параметров.\n"
   ]
  },
  {
   "cell_type": "code",
   "execution_count": 146,
   "metadata": {
    "id": "aVeAgJbCyJeP"
   },
   "outputs": [],
   "source": [
    "scores = [\n",
    "          [2, 4, 4, 5, 2, 3, 3, 1, 1],\n",
    "          [3, 4, 2, 3, 3, 1, 5, 2, 4],\n",
    "          [5, 3, 3, 4, 3, 2, 3, 5],\n",
    "          [4, 2, 2, 4, 2],\n",
    "          [4, 3, 3, 3, 3, 3, 3],\n",
    "          [2, 1, 5, 3, 5, 5],\n",
    "          [4, 4, 4, 4, 5, 5],\n",
    "          [4, 1, 3, 4, 1, 1],\n",
    "\n",
    "]"
   ]
  },
  {
   "cell_type": "code",
   "execution_count": 147,
   "metadata": {},
   "outputs": [],
   "source": [
    "# константы типов оценок\n",
    "GRADE_BAD = 0\n",
    "GRADE_GOOD = 1\n",
    "GRADE_GREAT = 2\n",
    "\n",
    "# константы разделительных границ оценок классов\n",
    "GREAT_DEFAULT_LIMIT = 0.95\n",
    "GOOD_DEFAULT_LIMIT = 0.3\n",
    "\n",
    "# константы позиций по сдавшим/провалившим\n",
    "FAIL_EXAM = 0\n",
    "PASS_EXAM = 1\n",
    "CLASS_PERC = 2\n",
    "\n",
    "# список частот по оценкам \n",
    "def get_grades_freq(scores):\n",
    "    freq_list = [0]*5\n",
    "    try:\n",
    "        for elem in scores:\n",
    "            freq_list[elem - 1] +=1\n",
    "    except:\n",
    "        print(\"Некорректная запись оценки\", scores)\n",
    "        return None\n",
    "    return freq_list\n",
    "\n",
    "# переводим в читабельный вид результирующую оценку класса\n",
    "def class_summary(result_type):\n",
    "    result_strs = [\"Плохо\", \"Удовлетворительно\", \"Отлично\"]\n",
    "    return \"Итог по классу:\" + result_strs[result_type]\n",
    "\n",
    "# по проценту сдавших определяем тип оценки класса\n",
    "def result_type(result, limit_good, limit_great):\n",
    "    if result > limit_great:\n",
    "        return GRADE_GREAT\n",
    "    elif result > limit_good:\n",
    "        return GRADE_GOOD\n",
    "    else:\n",
    "        return GRADE_BAD\n",
    "   \n",
    "# считаем характеристические числа для класса\n",
    "# сдавшие/несдавшие/процент \"4\"+\"5\"\n",
    "def class_eigenvalues(scores):\n",
    "    freq_list = get_grades_freq(scores)\n",
    "    if not freq_list:\n",
    "        return None\n",
    "    perc = (freq_list[4] + freq_list[3]) / sum(freq_list)\n",
    "    fail_ex = freq_list[0] + freq_list[1]                 # получили <3\n",
    "    pass_ex = freq_list[2] + freq_list[3] + freq_list[4]  # получили >=3\n",
    "    return [fail_ex, pass_ex, perc]\n",
    "\n",
    "# анализиоуем оценки одного класса\n",
    "# структуры вида [5, 3, 3, 4, 3, 2, 3, 5],\n",
    "def get_class_info(scores, limit_good, limit_great):\n",
    "    eigenvalues = class_eigenvalues(scores)\n",
    "    if eigenvalues:\n",
    "        summary = class_summary(result_type(eigenvalues[CLASS_PERC], limit_good, limit_great))\n",
    "        print(f\"Количество сдавших:{eigenvalues[PASS_EXAM]}, Количество проваливших:{eigenvalues[FAIL_EXAM]}, {summary}\")\n",
    "    else:\n",
    "        print(\"Некорректные оценки для класса\")\n",
    "\n",
    "# печатаем форматированную информацию по списку классов\n",
    "def get_info(scores, limit_good = GOOD_DEFAULT_LIMIT, limit_great = GREAT_DEFAULT_LIMIT):\n",
    "    for elem in scores:\n",
    "        get_class_info(elem, limit_good, limit_great)    "
   ]
  },
  {
   "cell_type": "code",
   "execution_count": 148,
   "metadata": {
    "colab": {
     "base_uri": "https://localhost:8080/"
    },
    "executionInfo": {
     "elapsed": 908,
     "status": "ok",
     "timestamp": 1635106550941,
     "user": {
      "displayName": "Евгения Миллер",
      "photoUrl": "https://lh3.googleusercontent.com/a-/AOh14Gj2X0dQicVOw3_uvDLm2AdkkDjMIUubVj8NCWQ6=s64",
      "userId": "01842992490389353651"
     },
     "user_tz": -180
    },
    "id": "sTzCQqo336Z-",
    "outputId": "a19c62c8-456d-43eb-8cdc-b051c9e6a388"
   },
   "outputs": [
    {
     "name": "stdout",
     "output_type": "stream",
     "text": [
      "Количество сдавших:5, Количество проваливших:4, Итог по классу:Удовлетворительно\n",
      "Количество сдавших:6, Количество проваливших:3, Итог по классу:Удовлетворительно\n",
      "Количество сдавших:7, Количество проваливших:1, Итог по классу:Удовлетворительно\n",
      "Количество сдавших:2, Количество проваливших:3, Итог по классу:Удовлетворительно\n",
      "Количество сдавших:7, Количество проваливших:0, Итог по классу:Плохо\n",
      "Количество сдавших:4, Количество проваливших:2, Итог по классу:Удовлетворительно\n",
      "Количество сдавших:6, Количество проваливших:0, Итог по классу:Отлично\n",
      "Количество сдавших:3, Количество проваливших:3, Итог по классу:Удовлетворительно\n"
     ]
    }
   ],
   "source": [
    "get_info(scores)"
   ]
  },
  {
   "cell_type": "markdown",
   "metadata": {},
   "source": [
    "### Примеры вывода\n",
    "Количество сдавших:5, Количество проваливших:4, Итог по классу:Удовлетворительно\n",
    "Количество сдавших:6, Количество проваливших:3, Итог по классу:Удовлетворительно\n",
    "Количество сдавших:7, Количество проваливших:1, Итог по классу:Удовлетворительно\n",
    "Количество сдавших:2, Количество проваливших:3, Итог по классу:Удовлетворительно\n",
    "Количество сдавших:7, Количество проваливших:0, Итог по классу:Плохо\n",
    "Количество сдавших:4, Количество проваливших:2, Итог по классу:Удовлетворительно\n",
    "Количество сдавших:6, Количество проваливших:0, Итог по классу:Отлично\n",
    "Количество сдавших:3, Количество проваливших:3, Итог по классу:Удовлетворительно"
   ]
  },
  {
   "cell_type": "code",
   "execution_count": 149,
   "metadata": {},
   "outputs": [
    {
     "name": "stdout",
     "output_type": "stream",
     "text": [
      "какой процент оценок выше 3 считаем удовлетворительным 30\n",
      "какой процент оценок выше 3 считаем отличным 95\n",
      "Количество сдавших:5, Количество проваливших:4, Итог по классу:Удовлетворительно\n",
      "Количество сдавших:6, Количество проваливших:3, Итог по классу:Удовлетворительно\n",
      "Количество сдавших:7, Количество проваливших:1, Итог по классу:Удовлетворительно\n",
      "Количество сдавших:2, Количество проваливших:3, Итог по классу:Удовлетворительно\n",
      "Количество сдавших:7, Количество проваливших:0, Итог по классу:Плохо\n",
      "Количество сдавших:4, Количество проваливших:2, Итог по классу:Удовлетворительно\n",
      "Количество сдавших:6, Количество проваливших:0, Итог по классу:Отлично\n",
      "Количество сдавших:3, Количество проваливших:3, Итог по классу:Удовлетворительно\n"
     ]
    }
   ],
   "source": [
    "# Добавьте возможность менять пороги результативности с помощью входных параметров.\n",
    "try:\n",
    "    limit_good = int(input(\"какой процент оценок выше 3 считаем удовлетворительным \"))\n",
    "    limit_great = int(input(\"какой процент оценок выше 3 считаем отличным \"))\n",
    "    get_info(scores, limit_good/100, limit_great/100)\n",
    "except:\n",
    "   print(\"Проблемы с вводом процентов, отработаем дефолтно\")\n",
    "   get_info(scores)"
   ]
  },
  {
   "cell_type": "markdown",
   "metadata": {
    "id": "HYOZFVZ6Dz3t"
   },
   "source": [
    "*Задача 7. Калькулятор*\n",
    "\n",
    "На вход в ваш калькулятор из стандартного ввода приходит выражение, в котором есть только числа и операции сложения и умножения.\n",
    "\n",
    "Нужно написать функцию, которая обрабатывает входную строку и выдаёт результат выражения на выходе.\n",
    "\n",
    "Используйте декомпозицию с помощью функций. Проверьте, что последующие ячейки отработали верно.\n",
    "\n",
    "\n"
   ]
  },
  {
   "cell_type": "code",
   "execution_count": 150,
   "metadata": {
    "id": "HAdvG7CVBwv3"
   },
   "outputs": [],
   "source": [
    "# разберем элемент на множители и перемножим\n",
    "def mult_expression(expression):\n",
    "    mult_operands = expression.split(\"*\")\n",
    "    mult_value = 1\n",
    "    for elem in mult_operands:\n",
    "        mult_value *= float(elem)\n",
    "    return mult_value\n",
    "\n",
    "# разберем на слагаемые(неопределенной сложности) и просуммируем\n",
    "def sum_expression(expression):\n",
    "    sum_operands = expression.split(\"+\")\n",
    "    sum_value = 0\n",
    "    for elem in sum_operands:\n",
    "        sum_value += mult_expression(elem) # внутри слагаемого может быть несколько перемножений\n",
    "    return sum_value\n",
    "    \n",
    "# формат выражения заточен на неотрицатиельные числа, ими и ограничимся\n",
    "def extract_expression(expression):\n",
    "    result = sum_expression(expression)\n",
    "    print(round(result))   # по ТЗ просили числа, но по формату примеров вывод целочисленный, округлим\n"
   ]
  },
  {
   "cell_type": "code",
   "execution_count": 151,
   "metadata": {
    "colab": {
     "base_uri": "https://localhost:8080/"
    },
    "executionInfo": {
     "elapsed": 399,
     "status": "ok",
     "timestamp": 1634726766991,
     "user": {
      "displayName": "Евгения Миллер",
      "photoUrl": "https://lh3.googleusercontent.com/a-/AOh14Gj2X0dQicVOw3_uvDLm2AdkkDjMIUubVj8NCWQ6=s64",
      "userId": "01842992490389353651"
     },
     "user_tz": -180
    },
    "id": "IuEVDkewAXs8",
    "outputId": "7ac5117f-cbc4-403b-b731-bb49f577e658"
   },
   "outputs": [
    {
     "name": "stdout",
     "output_type": "stream",
     "text": [
      "811\n"
     ]
    }
   ],
   "source": [
    "expression = '1+2*4*5+7*10*11'\n",
    "extract_expression(expression)"
   ]
  },
  {
   "cell_type": "code",
   "execution_count": 152,
   "metadata": {
    "colab": {
     "base_uri": "https://localhost:8080/"
    },
    "executionInfo": {
     "elapsed": 268,
     "status": "ok",
     "timestamp": 1634726768551,
     "user": {
      "displayName": "Евгения Миллер",
      "photoUrl": "https://lh3.googleusercontent.com/a-/AOh14Gj2X0dQicVOw3_uvDLm2AdkkDjMIUubVj8NCWQ6=s64",
      "userId": "01842992490389353651"
     },
     "user_tz": -180
    },
    "id": "e2M3A0VqAcZM",
    "outputId": "7d0bfb16-927e-4049-effb-627a1c189f7d"
   },
   "outputs": [
    {
     "name": "stdout",
     "output_type": "stream",
     "text": [
      "16\n"
     ]
    }
   ],
   "source": [
    "extract_expression('1+2+3+10')"
   ]
  },
  {
   "cell_type": "code",
   "execution_count": 153,
   "metadata": {
    "colab": {
     "base_uri": "https://localhost:8080/"
    },
    "executionInfo": {
     "elapsed": 4,
     "status": "ok",
     "timestamp": 1634726769460,
     "user": {
      "displayName": "Евгения Миллер",
      "photoUrl": "https://lh3.googleusercontent.com/a-/AOh14Gj2X0dQicVOw3_uvDLm2AdkkDjMIUubVj8NCWQ6=s64",
      "userId": "01842992490389353651"
     },
     "user_tz": -180
    },
    "id": "KexrzLZdCCa6",
    "outputId": "7aa32915-3993-428e-e989-ede347b722f0"
   },
   "outputs": [
    {
     "name": "stdout",
     "output_type": "stream",
     "text": [
      "20\n"
     ]
    }
   ],
   "source": [
    "extract_expression('1*2*10')"
   ]
  },
  {
   "cell_type": "markdown",
   "metadata": {
    "id": "IcmxuRHwCGzK"
   },
   "source": [
    "### Примеры вывода\n",
    "expression = '1+2*4*5+7*10*11'\n",
    "extract_expression(expression)\n",
    "811\n",
    "\n",
    "extract_expression('1+2+3+10')\n",
    "16\n",
    "\n",
    "extract_expression('1*2*10')\n",
    "20"
   ]
  }
 ],
 "metadata": {
  "colab": {
   "collapsed_sections": [],
   "name": "9.8_Домашнее_задание.ipynb",
   "provenance": []
  },
  "kernelspec": {
   "display_name": "Python 3 (ipykernel)",
   "language": "python",
   "name": "python3"
  },
  "language_info": {
   "codemirror_mode": {
    "name": "ipython",
    "version": 3
   },
   "file_extension": ".py",
   "mimetype": "text/x-python",
   "name": "python",
   "nbconvert_exporter": "python",
   "pygments_lexer": "ipython3",
   "version": "3.11.5"
  }
 },
 "nbformat": 4,
 "nbformat_minor": 1
}
