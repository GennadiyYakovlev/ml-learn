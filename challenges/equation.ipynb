{
 "cells": [
  {
   "cell_type": "markdown",
   "metadata": {
    "id": "MjhWPF_fS01M"
   },
   "source": [
    "## Свойства коэффициентов кубической функции. Практика\n",
    "\n",
    "В качестве практики подберите, как и в прошлый раз, варьируя коэффициенты, функцию для набора точек. Только в этот раз функция будет кубическая. Получается, вам нужно решить задачу интерполяции полиномом третьей степени. Интерфейс для выполнения задания аналогичен тому, который был в практике к предыдущему уроку."
   ]
  },
  {
   "cell_type": "code",
   "execution_count": null,
   "metadata": {
    "id": "YYcdUQiHACdC"
   },
   "outputs": [],
   "source": [
    "%matplotlib inline\n",
    "from ipywidgets import interactive\n",
    "import matplotlib.pyplot as plt\n",
    "import numpy as np"
   ]
  },
  {
   "cell_type": "code",
   "execution_count": null,
   "metadata": {
    "id": "PvczpL-OACdS"
   },
   "outputs": [],
   "source": [
    "def get_polyfunc_title(koefs):\n",
    "    s_koefs = ''.join([f'+{koefs[i]}x^{len(koefs)-i-1}' if koefs[i]>0\n",
    "                       else f'{koefs[i]}x^{len(koefs)-i-1}' if koefs[i]<0\n",
    "                       else ''\n",
    "                       for i in range(len(koefs))])\n",
    "    expr = s_koefs.replace('x^0', '') \\\n",
    "                  .replace('+', ' + ') \\\n",
    "                  .replace('-', ' - ') \\\n",
    "                  .replace('x^1', 'x') \\\n",
    "                  .replace(' 1x', ' x')\n",
    "\n",
    "    if expr[:3]==' + ':\n",
    "        expr = expr[3:]\n",
    "    if expr:\n",
    "        return '$f(x) = ' + expr + '$'\n",
    "\n",
    "def check(f, x, y):\n",
    "    check = False not in [f(x[i])==y[i] for i in range(len(x))]\n",
    "    if not check:\n",
    "        print('Пока не получилось')\n",
    "    else:\n",
    "        print('Ура! Получилось!')"
   ]
  },
  {
   "cell_type": "code",
   "execution_count": null,
   "metadata": {
    "id": "53rk2-niACdd"
   },
   "outputs": [],
   "source": [
    "def cubic_parabola(a, b, c, d):\n",
    "    plt.figure(3)\n",
    "    plt.axhline(0, color='black')\n",
    "    plt.axvline(0, color='black')\n",
    "\n",
    "    x, y = [x for x, y in points], [y for x, y in points]\n",
    "    plt.scatter(x, y, c='r')\n",
    "\n",
    "    if a!=0:\n",
    "        f = lambda x: a * x**3 + b * x**2 + c * x + d\n",
    "        check(f, x, y)\n",
    "\n",
    "        x = np.linspace(-15, 15, num=1000)\n",
    "        plt.plot(x, a * x**3 + b * x**2 + c * x + d)\n",
    "\n",
    "    plt.ylim(-35, 35)\n",
    "    plt.xlim(-5, 5)\n",
    "\n",
    "    plt.title(get_polyfunc_title([a,b,c,d]))\n",
    "\n",
    "    plt.show()"
   ]
  },
  {
   "cell_type": "code",
   "execution_count": null,
   "metadata": {
    "colab": {
     "referenced_widgets": [
      "7f3ccffc8346485d838dff4b37a8e4e6"
     ]
    },
    "id": "hoJJtIQNACdo",
    "outputId": "785eb1b9-7df9-4b47-a392-b8b4955bb19f"
   },
   "outputs": [
    {
     "data": {
      "application/vnd.jupyter.widget-view+json": {
       "model_id": "7f3ccffc8346485d838dff4b37a8e4e6",
       "version_major": 2,
       "version_minor": 0
      },
      "text/plain": [
       "interactive(children=(IntSlider(value=0, description='a', max=15, min=-15), IntSlider(value=0, description='b'…"
      ]
     },
     "metadata": {},
     "output_type": "display_data"
    }
   ],
   "source": [
    "points = [[-0.5, -15.0],\n",
    "          [-1, -31],\n",
    "          [0, -7],\n",
    "          [0.5, -4.0],\n",
    "          [1, -3],\n",
    "          [2, 5],\n",
    "          [2.5, 18.0],\n",
    "          [3, 41]]\n",
    "\n",
    "interactive_plot = interactive(cubic_parabola, a=(-15, 15, 1), b=(-10, 10, 1), c=(-10, 10, 1), d=(-10, 10, 1))\n",
    "output = interactive_plot.children[-1]\n",
    "output.layout.height = '300px'\n",
    "interactive_plot"
   ]
  },
  {
   "cell_type": "code",
   "execution_count": null,
   "metadata": {
    "colab": {
     "referenced_widgets": [
      "bb7d2c379cfd44d78101c9070f05a922"
     ]
    },
    "id": "dA2JdL3bACdx",
    "outputId": "7771ccf9-6a1f-45dc-de36-821eff3791e7"
   },
   "outputs": [
    {
     "data": {
      "application/vnd.jupyter.widget-view+json": {
       "model_id": "bb7d2c379cfd44d78101c9070f05a922",
       "version_major": 2,
       "version_minor": 0
      },
      "text/plain": [
       "interactive(children=(IntSlider(value=0, description='a', max=15, min=-15), IntSlider(value=0, description='b'…"
      ]
     },
     "metadata": {},
     "output_type": "display_data"
    }
   ],
   "source": [
    "points = [[-5.0, -68.0],\n",
    "          [-3.75, -8.234375],\n",
    "          [-2.5, 16.375],\n",
    "          [-1.25, 17.546875],\n",
    "          [0.0, 7.0],\n",
    "          [1.25, -3.546875],\n",
    "          [2.5, -2.375],\n",
    "          [3.75, 22.234375],\n",
    "          [5.0, 82.0]]\n",
    "\n",
    "interactive_plot = interactive(cubic_parabola, a=(-15, 15, 1), b=(-10, 10, 1), c=(-10, 10, 1), d=(-10, 10, 1))\n",
    "output = interactive_plot.children[-1]\n",
    "output.layout.height = '300px'\n",
    "interactive_plot"
   ]
  },
  {
   "cell_type": "markdown",
   "metadata": {},
   "source": [
    "Есть два одинаковых по массе куска чугуна с разным содержанием хрома. Процентное содержание хрома в первом куске на 5 меньше, чем во втором. Сплавив эти куски, получили сплав, в котором содержится 12 кг хрома. Если бы масса первого куска была в 2 раза больше, то в сплаве содержалось бы 16 кг хрома. \n",
    "\n",
    "Задание: найдите процентное содержание хрома в каждом куске чугуна."
   ]
  },
  {
   "cell_type": "code",
   "execution_count": 41,
   "metadata": {},
   "outputs": [],
   "source": [
    "init_printing(use_unicode = False, wrap_line = False, no_global=True)\n",
    "from sympy.solvers.inequalities import solve_univariate_inequality"
   ]
  },
  {
   "cell_type": "code",
   "execution_count": 52,
   "metadata": {},
   "outputs": [],
   "source": [
    "from sympy import*\n",
    "from sympy.solvers.solveset import linsolve"
   ]
  },
  {
   "cell_type": "code",
   "execution_count": 53,
   "metadata": {},
   "outputs": [
    {
     "data": {
      "image/png": "[encoded data removed]",
      "text/latex": [
       "$\\displaystyle \\left\\{\\left( 4, \\  8\\right)\\right\\}$"
      ],
      "text/plain": [
       "{(4, 8)}"
      ]
     },
     "execution_count": 53,
     "metadata": {},
     "output_type": "execute_result"
    }
   ],
   "source": [
    "m1,m2,chrome1,chrome2 = symbols(\"m1,m2,chrome1,chrome2\")\n",
    "\n",
    "eq1 = chrome1 + chrome2 - 12       # в сплаве получается 12kg хрома\n",
    "eq2 = 2* chrome1 + chrome2 - 16    # в сплаве про 2 m1 - 16 кг хрома\n",
    "\n",
    "nonlinsolve([eq5,eq8], [chrome1, chrome2])"
   ]
  },
  {
   "cell_type": "markdown",
   "metadata": {},
   "source": [
    "Значит хрома в кусках было 4 и 8 кr\n",
    "Остается найти такую массу, где \"Процентное содержание хрома в первом куске на 5 меньше\" дает 4 и 8"
   ]
  },
  {
   "cell_type": "code",
   "execution_count": 70,
   "metadata": {},
   "outputs": [
    {
     "data": {
      "image/png": "[encoded data removed]",
      "text/latex": [
       "$\\displaystyle \\left\\{\\left( 0, \\  0\\right), \\left( 80.0, \\  80.0\\right)\\right\\}$"
      ],
      "text/plain": [
       "{(0, 0), (80.0, 80.0)}"
      ]
     },
     "execution_count": 70,
     "metadata": {},
     "output_type": "execute_result"
    }
   ],
   "source": [
    "eq3 = 4/m1 - 8/m2 + 0.05 # Процентное содержание хрома в первом куске на 5 меньше\n",
    "eq4 = m1-m2              # массы двух кусков равны\n",
    "nonlinsolve([eq3,eq4], [m1, m2])"
   ]
  },
  {
   "cell_type": "markdown",
   "metadata": {},
   "source": [
    "Нулевые решения не подходят, значит масса кусков была по 80kg\n",
    "Остается арифметически посчитать процентное содержание хрома в кусках"
   ]
  },
  {
   "cell_type": "code",
   "execution_count": 48,
   "metadata": {},
   "outputs": [
    {
     "name": "stdout",
     "output_type": "stream",
     "text": [
      "Процентное содержание хрома в каждом куске чугуна\n",
      "В первом куске: 0.05\n",
      "Во втором куске: 0.1\n"
     ]
    }
   ],
   "source": [
    "perc1 = 4 / 80\n",
    "perc2 = 8 / 80\n",
    "print(\"Процентное содержание хрома в каждом куске чугуна\")\n",
    "print(\"В первом куске:\", perc1)\n",
    "print(\"Во втором куске:\", perc2)"
   ]
  }
 ],
 "metadata": {
  "colab": {
   "provenance": [
    {
     "file_id": "18UMvRahP18I0gjbACcae6eiypxULx5O3",
     "timestamp": 1706214251336
    }
   ]
  },
  "kernelspec": {
   "display_name": "Python 3 (ipykernel)",
   "language": "python",
   "name": "python3"
  },
  "language_info": {
   "codemirror_mode": {
    "name": "ipython",
    "version": 3
   },
   "file_extension": ".py",
   "mimetype": "text/x-python",
   "name": "python",
   "nbconvert_exporter": "python",
   "pygments_lexer": "ipython3",
   "version": "3.11.5"
  }
 },
 "nbformat": 4,
 "nbformat_minor": 1
}
